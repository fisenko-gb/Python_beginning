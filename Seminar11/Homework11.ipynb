{
 "cells": [
  {
   "cell_type": "markdown",
   "id": "2b515199",
   "metadata": {},
   "source": [
    "Дана функция f(x) = (sin(x)/2 + cos(x)/2)^2 * sin(x)"
   ]
  },
  {
   "cell_type": "code",
   "execution_count": 88,
   "id": "3c4cb2d5",
   "metadata": {},
   "outputs": [],
   "source": [
    "from sympy.abc import x\n",
    "from sympy import solve, solveset, diff, plot, Interval, oo, sin, cos, nonlinsolve, linsolve\n",
    "from sympy import minimum, maximum, evalf, pi, tan, atan, log, S, sqrt"
   ]
  },
  {
   "cell_type": "code",
   "execution_count": 89,
   "id": "ccebe506",
   "metadata": {},
   "outputs": [
    {
     "data": {
      "text/latex": [
       "$\\displaystyle \\left(\\frac{\\sin{\\left(x \\right)}}{2} + \\frac{\\cos{\\left(x \\right)}}{2}\\right)^{2} \\sin{\\left(x \\right)}$"
      ],
      "text/plain": [
       "(sin(x)/2 + cos(x)/2)**2*sin(x)"
      ]
     },
     "execution_count": 89,
     "metadata": {},
     "output_type": "execute_result"
    }
   ],
   "source": [
    "y = (sin(x)/2 + cos(x)/2)**2 * sin(x)\n",
    "y"
   ]
  },
  {
   "cell_type": "markdown",
   "id": "304e62f0",
   "metadata": {},
   "source": [
    "1. Определить корни"
   ]
  },
  {
   "cell_type": "code",
   "execution_count": 90,
   "id": "0cd6a527",
   "metadata": {},
   "outputs": [
    {
     "data": {
      "text/plain": [
       "[0, -pi/4, 3*pi/4, pi]"
      ]
     },
     "execution_count": 90,
     "metadata": {},
     "output_type": "execute_result"
    }
   ],
   "source": [
    "roots = solve(y, x)\n",
    "roots"
   ]
  },
  {
   "cell_type": "code",
   "execution_count": 91,
   "id": "41339767",
   "metadata": {},
   "outputs": [
    {
     "data": {
      "text/latex": [
       "$\\displaystyle \\left\\{2 n \\pi\\; \\middle|\\; n \\in \\mathbb{Z}\\right\\} \\cup \\left\\{2 n \\pi + \\pi\\; \\middle|\\; n \\in \\mathbb{Z}\\right\\} \\cup \\left\\{2 n \\pi + \\frac{3 \\pi}{4}\\; \\middle|\\; n \\in \\mathbb{Z}\\right\\} \\cup \\left\\{2 n \\pi + \\frac{7 \\pi}{4}\\; \\middle|\\; n \\in \\mathbb{Z}\\right\\}$"
      ],
      "text/plain": [
       "Union(ImageSet(Lambda(_n, 2*_n*pi + 3*pi/4), Integers), ImageSet(Lambda(_n, 2*_n*pi + 7*pi/4), Integers), ImageSet(Lambda(_n, 2*_n*pi + pi), Integers), ImageSet(Lambda(_n, 2*_n*pi), Integers))"
      ]
     },
     "execution_count": 91,
     "metadata": {},
     "output_type": "execute_result"
    }
   ],
   "source": [
    "solveset(y,x)"
   ]
  },
  {
   "cell_type": "markdown",
   "id": "6556cc60",
   "metadata": {},
   "source": [
    "2 - 3. Найти интервалы, на которых функция возрастает/убывает"
   ]
  },
  {
   "cell_type": "code",
   "execution_count": 92,
   "id": "171a0961",
   "metadata": {},
   "outputs": [
    {
     "data": {
      "text/latex": [
       "$\\displaystyle \\left(- \\sin{\\left(x \\right)} + \\cos{\\left(x \\right)}\\right) \\left(\\frac{\\sin{\\left(x \\right)}}{2} + \\frac{\\cos{\\left(x \\right)}}{2}\\right) \\sin{\\left(x \\right)} + \\left(\\frac{\\sin{\\left(x \\right)}}{2} + \\frac{\\cos{\\left(x \\right)}}{2}\\right)^{2} \\cos{\\left(x \\right)}$"
      ],
      "text/plain": [
       "(-sin(x) + cos(x))*(sin(x)/2 + cos(x)/2)*sin(x) + (sin(x)/2 + cos(x)/2)**2*cos(x)"
      ]
     },
     "execution_count": 92,
     "metadata": {},
     "output_type": "execute_result"
    }
   ],
   "source": [
    "derivative = y.diff(x)\n",
    "derivative"
   ]
  },
  {
   "cell_type": "code",
   "execution_count": 93,
   "id": "f3f33108",
   "metadata": {},
   "outputs": [
    {
     "name": "stdout",
     "output_type": "stream",
     "text": [
      "-0.79 \t -pi/4\n",
      "2.36 \t 3*pi/4\n",
      "-2.08 \t -2*atan(-3/2 + sqrt(6)*sqrt(5 - sqrt(17))/2 + sqrt(17)/2)\n",
      "2.87 \t 2*atan(3/2 + sqrt(17)/2 + sqrt(6)*sqrt(sqrt(17) + 5)/2)\n",
      "1.06 \t 2*atan(-sqrt(17)/2 + sqrt(6)*sqrt(5 - sqrt(17))/2 + 3/2)\n",
      "-0.27 \t 2*atan(-sqrt(6)*sqrt(sqrt(17) + 5)/2 + 3/2 + sqrt(17)/2)\n"
     ]
    }
   ],
   "source": [
    "res_solve_derivative = solve(derivative, x)\n",
    "for i in res_solve_derivative:\n",
    "    print(round(i.evalf(),2), '\\t', i)"
   ]
  },
  {
   "cell_type": "code",
   "execution_count": 94,
   "id": "d1d9279a",
   "metadata": {},
   "outputs": [
    {
     "name": "stdout",
     "output_type": "stream",
     "text": [
      "-3.14 \t -pi\n",
      "-0.79 \t -pi/4\n",
      "2.36 \t 3*pi/4\n",
      "-2.08 \t -2*atan(-3/2 + sqrt(6)*sqrt(5 - sqrt(17))/2 + sqrt(17)/2)\n",
      "2.87 \t 2*atan(3/2 + sqrt(17)/2 + sqrt(6)*sqrt(sqrt(17) + 5)/2)\n",
      "1.06 \t 2*atan(-sqrt(17)/2 + sqrt(6)*sqrt(5 - sqrt(17))/2 + 3/2)\n",
      "-0.27 \t 2*atan(-sqrt(6)*sqrt(sqrt(17) + 5)/2 + 3/2 + sqrt(17)/2)\n",
      "3.14 \t pi\n"
     ]
    }
   ],
   "source": [
    "if res_solve_derivative[-1] != pi:\n",
    "    res_solve_derivative.append(pi)\n",
    "if res_solve_derivative[0] != -pi:\n",
    "    res_solve_derivative.insert(0, -pi)\n",
    "for i in res_solve_derivative:\n",
    "    print(round(i.evalf(),2), '\\t', i)"
   ]
  },
  {
   "cell_type": "code",
   "execution_count": 95,
   "id": "b4990872",
   "metadata": {},
   "outputs": [
    {
     "name": "stdout",
     "output_type": "stream",
     "text": [
      "Функция убывает на отрезке: -3.14, -0.79\n",
      "Функция убывает на отрезке: -0.79, 2.36\n",
      "Функция возрастает на отрезке: 2.36, -2.08\n",
      "Функция убывает на отрезке: -2.08, 2.87\n",
      "Функция возрастает на отрезке: 2.87, 1.06\n",
      "Функция возрастает на отрезке: 1.06, -0.27\n",
      "Функция убывает на отрезке: -0.27, 3.14\n"
     ]
    }
   ],
   "source": [
    "for i in range(len(res_solve_derivative) - 1):\n",
    "    res = derivative.subs(x, (res_solve_derivative[i+1] + res_solve_derivative[i]/2.0))\n",
    "    if res > 0:\n",
    "        print(f'Функция возрастает на отрезке: {round(res_solve_derivative[i].evalf(),2)}, {round(res_solve_derivative[i+1].evalf(), 2)}')\n",
    "    else:\n",
    "        print(f'Функция убывает на отрезке: {round(res_solve_derivative[i].evalf(),2)}, {round(res_solve_derivative[i+1].evalf(), 2)}')"
   ]
  },
  {
   "cell_type": "markdown",
   "id": "9b57557f",
   "metadata": {},
   "source": [
    "4. Построить график"
   ]
  },
  {
   "cell_type": "code",
   "execution_count": 96,
   "id": "f082a9da",
   "metadata": {
    "scrolled": true
   },
   "outputs": [
    {
     "data": {
      "image/png": "[encoded data removed]",
      "text/plain": [
       "<Figure size 432x288 with 1 Axes>"
      ]
     },
     "metadata": {
      "needs_background": "light"
     },
     "output_type": "display_data"
    }
   ],
   "source": [
    "graff = plot(y)"
   ]
  },
  {
   "cell_type": "code",
   "execution_count": 97,
   "id": "343e4417",
   "metadata": {},
   "outputs": [
    {
     "data": {
      "image/png": "[encoded data removed]",
      "text/plain": [
       "<Figure size 432x288 with 1 Axes>"
      ]
     },
     "metadata": {
      "needs_background": "light"
     },
     "output_type": "display_data"
    }
   ],
   "source": [
    "graff = plot(y, (x, -pi, pi))"
   ]
  },
  {
   "cell_type": "markdown",
   "id": "60bc3ad2",
   "metadata": {},
   "source": [
    "5. Вычислить вершину"
   ]
  },
  {
   "cell_type": "code",
   "execution_count": 64,
   "id": "d4e5e4b8",
   "metadata": {},
   "outputs": [
    {
     "name": "stdout",
     "output_type": "stream",
     "text": [
      "Максимум = 0.404. Минимум = -0.404\n"
     ]
    }
   ],
   "source": [
    "y_max = maximum(y, x, Interval(-pi, pi)).evalf()\n",
    "y_min = minimum(y, x, Interval(-pi, pi)).evalf()\n",
    "print(f'Максимум = {round(y_max, 3)}. Минимум = {round(y_min, 3)}')"
   ]
  },
  {
   "cell_type": "code",
   "execution_count": 98,
   "id": "521c3e53",
   "metadata": {},
   "outputs": [
    {
     "name": "stdout",
     "output_type": "stream",
     "text": [
      "Вершина 1: x = -3.14, y = 0\n",
      "Вершина 2: x = -0.79, y = 0\n",
      "Вершина 3: x = 2.36, y = 0\n",
      "Вершина 4: x = -2.08, y = -0.40\n",
      "Вершина 5: x = 2.87, y = 0.03\n",
      "Вершина 6: x = 1.06, y = 0.40\n",
      "Вершина 7: x = -0.27, y = -0.03\n",
      "Вершина 8: x = 3.14, y = 0\n"
     ]
    }
   ],
   "source": [
    "for i in range(len(res_solve_derivative)):\n",
    "    res = y.subs(x, res_solve_derivative[i])\n",
    "    print(f'Вершина {i+1}: x = {round(res_solve_derivative[i].evalf(), 2)}, y = {round(res, 2)}')"
   ]
  },
  {
   "cell_type": "markdown",
   "id": "5ffdf89e",
   "metadata": {},
   "source": [
    "6 - 7. Определить промежутки, на котором f > 0 / f < 0"
   ]
  },
  {
   "cell_type": "code",
   "execution_count": 99,
   "id": "06befb48",
   "metadata": {},
   "outputs": [
    {
     "data": {
      "text/plain": [
       "[-pi, 0, -pi/4, 3*pi/4, pi]"
      ]
     },
     "execution_count": 99,
     "metadata": {},
     "output_type": "execute_result"
    }
   ],
   "source": [
    "if roots[-1] != pi:\n",
    "    roots.append(pi)\n",
    "if roots[0] != -pi:\n",
    "    roots.insert(0, -pi)\n",
    "roots"
   ]
  },
  {
   "cell_type": "code",
   "execution_count": 100,
   "id": "d5cfe862",
   "metadata": {},
   "outputs": [
    {
     "name": "stdout",
     "output_type": "stream",
     "text": [
      "f < 0: (-pi,0)\n",
      "f < 0: (0,-pi/4)\n",
      "f > 0: (-pi/4,3*pi/4)\n",
      "f > 0: (3*pi/4,pi)\n"
     ]
    }
   ],
   "source": [
    "for i in range(len(roots) - 1):\n",
    "    total = y.subs(x, (roots[i+1] + roots[i])/2.0)\n",
    "    if total > 0:\n",
    "        print(f'f > 0: ({roots[i]},{roots[i+1]})')\n",
    "    else:\n",
    "        print(f'f < 0: ({roots[i]},{roots[i+1]})')"
   ]
  },
  {
   "cell_type": "code",
   "execution_count": null,
   "id": "1f9f9be7",
   "metadata": {},
   "outputs": [],
   "source": []
  }
 ],
 "metadata": {
  "kernelspec": {
   "display_name": "Python 3 (ipykernel)",
   "language": "python",
   "name": "python3"
  },
  "language_info": {
   "codemirror_mode": {
    "name": "ipython",
    "version": 3
   },
   "file_extension": ".py",
   "mimetype": "text/x-python",
   "name": "python",
   "nbconvert_exporter": "python",
   "pygments_lexer": "ipython3",
   "version": "3.9.12"
  }
 },
 "nbformat": 4,
 "nbformat_minor": 5
}
